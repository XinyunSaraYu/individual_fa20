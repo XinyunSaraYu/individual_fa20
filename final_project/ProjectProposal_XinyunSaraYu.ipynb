{
 "cells": [
  {
   "cell_type": "markdown",
   "metadata": {},
   "source": [
    "# COGS 108 - Project Proposal"
   ]
  },
  {
   "cell_type": "markdown",
   "metadata": {},
   "source": [
    "# Name & GitHub ID\n",
    "\n",
    "- Name: Xinyun Sara Yu\n",
    "- GitHub ID: 59596004"
   ]
  },
  {
   "cell_type": "markdown",
   "metadata": {},
   "source": [
    "# Research Question"
   ]
  },
  {
   "cell_type": "markdown",
   "metadata": {},
   "source": [
    "The research question I would like to ask focuses on how to maintain/increase San Diego park popularity; the specific question being: *Is there a relationship between the amount of amenities in a park and the amount of people who frequent the park?*"
   ]
  },
  {
   "cell_type": "markdown",
   "metadata": {},
   "source": [
    "## Background and Prior Work"
   ]
  },
  {
   "cell_type": "markdown",
   "metadata": {},
   "source": [
    "In general, my research question deals with understanding the relationship between park amenities and park popularity. The National Recreation and Park Association (NRPA) asked a similar question (how can neighborhood parks attract more users?) and discussed a study on parks to find out what types of people were using parks, what amenities they used, and what factors led to more park usage (1). It was found that parks were busiest in the afternoons and on weekends, males frequented parks more than females, and adding a new park amenity (ex: tennis courts, playgrounds, etc.) was correlated with a 2 percent increase in the amount of park-goers and physical activity in the park. In addition, amenities such as walking paths and gymnasiums encouraged the most physical activity, however, walking paths existed in less than 30 percent of parks surveyed and gymnasiums in only 9 percent. Lastly, parks with walking loops had 80 percent more users than parks without; every new supervised activity added was associated with a 50 percent increase in park engagement, and marketing efforts correlated with a 62 percent increase in park-goers. NRPA concluded that marketing, investment in park amenities, and adding supervised activities may help increase park popularity.\n",
    "\n",
    "A report from City Parks Alliance (2) discussed how SOPARC (Systematic Observation of Play and Recreation in Communities), a park measurement tool, helped track user activity, activity types, age, gender, and ethnicity, as well as park accessibility, safety, and usability. Data was collected through direct observation and passive techniques (ex: ground sensors, cellular device detectors in benches). It was found in one study that better walking routes to and from parks could lead to dog owners engaging in more physical activity rather than driving. In another study, it was found that a park having playgrounds, basketball courts, more sidewalks, and safer intersections in the surrounding neighborhoods were all correlated with higher park use in children. Overall, through these findings, there seems to be promise that the quantity of park amenities may be associated with park popularity.\n",
    "\n",
    "References (include links):\n",
    "\n",
    "(1) Cohen, D. A., & Leuschner, K. (n.d.). How Can Neighborhood Parks Attract More Users?: Feature: Parks and Recreation Magazine: NRPA. Retrieved from https://www.nrpa.org/parks-recreation-magazine/2017/july/how-can-neighborhood-parks-attract-more-users/\n",
    "\n",
    "(2) Wagoner, C. V. (2019, March 24). Active Parks, Healthy Cities: Recommendations from the National Study of Neighborhood Parks. Retrieved from https://cityparksalliance.org/resource/active-parks-healthy-cities/ "
   ]
  },
  {
   "cell_type": "markdown",
   "metadata": {},
   "source": [
    "# Hypothesis\n"
   ]
  },
  {
   "cell_type": "markdown",
   "metadata": {},
   "source": [
    "I hypothesize that the more amenities a park has, the more people will frequent a park. I imagine parks that offer more amenities will give people more things to do, such as: host birthday parties, play frisbee with friends, have a group picnic, etc. "
   ]
  },
  {
   "cell_type": "markdown",
   "metadata": {},
   "source": [
    "# Data"
   ]
  },
  {
   "cell_type": "markdown",
   "metadata": {},
   "source": [
    "The variables in an ideal dataset would include: \n",
    "- park name\n",
    "- park acreage\n",
    "- a list of each park's amenities\n",
    "- number of people who visit the park \n",
    "- number of events each park has hosted in a year\n",
    "- time of day when park is most populated\n",
    "\n",
    "Data would be stored in a CSV file for organization, and further calculations and manipulation.\n",
    "\n",
    "There are 340 parks in San Diego, so I think if each park is observed twice per month for the duration of a year, there would be a total of 8,160 observations. \n",
    "The observations would be focused on what amenities/facilities exist in each park, how many people visit the park on a typical weekday and weekend, and the time of day in which the park is at its highest usage. I think this type of data would be able to provide some insight into whether amenities have an effect on park popularity. "
   ]
  },
  {
   "cell_type": "markdown",
   "metadata": {},
   "source": [
    "# Ethics & Privacy"
   ]
  },
  {
   "cell_type": "markdown",
   "metadata": {},
   "source": [
    "In terms of ethics and privacy, all data collected from pure observation would be from random park-goers whose names and personal information would not be known or recorded. All observation would be conducted in the public park setting and only relevant variables (listed above in Data section) would be recorded for further analysis. There would be no interaction with park users. The data collected would be stored in a secure location that requires log-in and identification to access. "
   ]
  }
 ],
 "metadata": {
  "kernelspec": {
   "display_name": "Python 3",
   "language": "python",
   "name": "python3"
  },
  "language_info": {
   "codemirror_mode": {
    "name": "ipython",
    "version": 3
   },
   "file_extension": ".py",
   "mimetype": "text/x-python",
   "name": "python",
   "nbconvert_exporter": "python",
   "pygments_lexer": "ipython3",
   "version": "3.8.3"
  }
 },
 "nbformat": 4,
 "nbformat_minor": 4
}
